{
  "nbformat": 4,
  "nbformat_minor": 0,
  "metadata": {
    "colab": {
      "name": "knn.ipynb",
      "version": "0.3.2",
      "provenance": [],
      "collapsed_sections": [],
      "toc_visible": true,
      "include_colab_link": true
    },
    "kernelspec": {
      "name": "python3",
      "display_name": "Python 3"
    }
  },
  "cells": [
    {
      "cell_type": "markdown",
      "metadata": {
        "id": "view-in-github",
        "colab_type": "text"
      },
      "source": [
        "<a href=\"https://colab.research.google.com/github/uss1995/ML_KNN/blob/master/knn.ipynb\" target=\"_parent\"><img src=\"https://colab.research.google.com/assets/colab-badge.svg\" alt=\"Open In Colab\"/></a>"
      ]
    },
    {
      "cell_type": "code",
      "metadata": {
        "id": "2ZBQcxjeiQSh",
        "colab_type": "code",
        "outputId": "8f5cb4ee-fc87-4405-ca4d-9465584898c3",
        "colab": {
          "base_uri": "https://localhost:8080/",
          "height": 350
        }
      },
      "source": [
        "from numpy import *\n",
        "import operator\n",
        "from os import listdir\n",
        "\n",
        "\n",
        "\n",
        "def classify0(inX, dataSet, labels, k):\n",
        "    dataSetSize = dataSet.shape[0]\n",
        "    diffMat = tile(inX, (dataSetSize,1)) - dataSet\n",
        "    sqDiffMat = diffMat**2\n",
        "    sqDistances = sqDiffMat.sum(axis=1)\n",
        "    distances = sqDistances**0.5\n",
        "    sortedDistIndicies = distances.argsort()     \n",
        "    classCount={}          \n",
        "    for i in range(k):\n",
        "        voteIlabel = labels[sortedDistIndicies[i]]\n",
        "        classCount[voteIlabel] = classCount.get(voteIlabel,0) + 1\n",
        "        \n",
        "        #if classCount.has_key(voteIlabel):\n",
        "        #    classCount[voteIlabel] += 1\n",
        "        #else:\n",
        "        #    classCount[voteIlabel] = 1\n",
        "    sortedClassCount = sorted(classCount.items(), key=operator.itemgetter(1), reverse=True)\n",
        "    return sortedClassCount[0][0]\n",
        "\n",
        "def img2vector(filename):\n",
        "    returnVect = zeros((1,1024))\n",
        "    fr = open(filename)\n",
        "    for i in range(32):\n",
        "        lineStr = fr.readline()\n",
        "        for j in range(32):\n",
        "            returnVect[0,32*i+j] = int(lineStr[j])\n",
        "    return returnVect\n",
        "\n",
        "def handwritingClassTest():\n",
        "    hwLabels = []\n",
        "    trainingFileList = listdir('trainingDigits')           #load the training set\n",
        "    m = len(trainingFileList)\n",
        "    trainingMat = zeros((m,1024))\n",
        "    for i in range(m):\n",
        "        fileNameStr = trainingFileList[i]\n",
        "        fileStr = fileNameStr.split('.')[0]     #take off .txt\n",
        "        classNumStr = int(fileStr.split('_')[0])\n",
        "        hwLabels.append(classNumStr)\n",
        "        trainingMat[i,:] = img2vector('trainingDigits/%s' % fileNameStr)\n",
        "    testFileList = listdir('testDigits')        #iterate through the test set\n",
        "    errorCount = 0.0\n",
        "    mTest = len(testFileList)\n",
        "    for i in range(mTest):\n",
        "        fileNameStr = testFileList[i]\n",
        "        fileStr = fileNameStr.split('.')[0]     #take off .txt\n",
        "        classNumStr = int(fileStr.split('_')[0])\n",
        "        vectorUnderTest = img2vector('testDigits/%s' % fileNameStr)\n",
        "        classifierResult = classify0(vectorUnderTest, trainingMat, hwLabels, 3)\n",
        "        print(\"the classifier came back with: %d, the real answer is: %d\" % (classifierResult, classNumStr))\n",
        "        if (classifierResult != classNumStr): \n",
        "            errorCount += 1.0\n",
        "            print(\"=================Error Result=======================\")\n",
        "    print(\"\\nthe total number of errors is: %d\" % errorCount)\n",
        "    print(\"\\nthe total error rate is: %f\" % (errorCount/float(mTest)))\n",
        "\n",
        "handwritingClassTest();"
      ],
      "execution_count": 7,
      "outputs": [
        {
          "output_type": "stream",
          "text": [
            "\n",
            "path: /content\n"
          ],
          "name": "stdout"
        },
        {
          "output_type": "error",
          "ename": "FileNotFoundError",
          "evalue": "ignored",
          "traceback": [
            "\u001b[0;31m---------------------------------------------------------------------------\u001b[0m",
            "\u001b[0;31mFileNotFoundError\u001b[0m                         Traceback (most recent call last)",
            "\u001b[0;32m<ipython-input-7-8f128ffaecbd>\u001b[0m in \u001b[0;36m<module>\u001b[0;34m()\u001b[0m\n\u001b[1;32m     64\u001b[0m     \u001b[0mprint\u001b[0m\u001b[0;34m(\u001b[0m\u001b[0;34m\"\\nthe total error rate is: %f\"\u001b[0m \u001b[0;34m%\u001b[0m \u001b[0;34m(\u001b[0m\u001b[0merrorCount\u001b[0m\u001b[0;34m/\u001b[0m\u001b[0mfloat\u001b[0m\u001b[0;34m(\u001b[0m\u001b[0mmTest\u001b[0m\u001b[0;34m)\u001b[0m\u001b[0;34m)\u001b[0m\u001b[0;34m)\u001b[0m\u001b[0;34m\u001b[0m\u001b[0;34m\u001b[0m\u001b[0m\n\u001b[1;32m     65\u001b[0m \u001b[0;34m\u001b[0m\u001b[0m\n\u001b[0;32m---> 66\u001b[0;31m \u001b[0mhandwritingClassTest\u001b[0m\u001b[0;34m(\u001b[0m\u001b[0;34m)\u001b[0m\u001b[0;34m;\u001b[0m\u001b[0;34m\u001b[0m\u001b[0;34m\u001b[0m\u001b[0m\n\u001b[0m",
            "\u001b[0;32m<ipython-input-7-8f128ffaecbd>\u001b[0m in \u001b[0;36mhandwritingClassTest\u001b[0;34m()\u001b[0m\n\u001b[1;32m     39\u001b[0m     \u001b[0mprint\u001b[0m\u001b[0;34m(\u001b[0m\u001b[0;34m\"\\npath:\"\u001b[0m\u001b[0;34m,\u001b[0m\u001b[0mcwd\u001b[0m\u001b[0;34m)\u001b[0m\u001b[0;34m\u001b[0m\u001b[0;34m\u001b[0m\u001b[0m\n\u001b[1;32m     40\u001b[0m \u001b[0;34m\u001b[0m\u001b[0m\n\u001b[0;32m---> 41\u001b[0;31m     \u001b[0mtrainingFileList\u001b[0m \u001b[0;34m=\u001b[0m \u001b[0mlistdir\u001b[0m\u001b[0;34m(\u001b[0m\u001b[0;34m'trainingDigits'\u001b[0m\u001b[0;34m)\u001b[0m           \u001b[0;31m#load the training set\u001b[0m\u001b[0;34m\u001b[0m\u001b[0;34m\u001b[0m\u001b[0m\n\u001b[0m\u001b[1;32m     42\u001b[0m     \u001b[0mm\u001b[0m \u001b[0;34m=\u001b[0m \u001b[0mlen\u001b[0m\u001b[0;34m(\u001b[0m\u001b[0mtrainingFileList\u001b[0m\u001b[0;34m)\u001b[0m\u001b[0;34m\u001b[0m\u001b[0;34m\u001b[0m\u001b[0m\n\u001b[1;32m     43\u001b[0m     \u001b[0mtrainingMat\u001b[0m \u001b[0;34m=\u001b[0m \u001b[0mzeros\u001b[0m\u001b[0;34m(\u001b[0m\u001b[0;34m(\u001b[0m\u001b[0mm\u001b[0m\u001b[0;34m,\u001b[0m\u001b[0;36m1024\u001b[0m\u001b[0;34m)\u001b[0m\u001b[0;34m)\u001b[0m\u001b[0;34m\u001b[0m\u001b[0;34m\u001b[0m\u001b[0m\n",
            "\u001b[0;31mFileNotFoundError\u001b[0m: [Errno 2] No such file or directory: 'trainingDigits'"
          ]
        }
      ]
    },
    {
      "cell_type": "markdown",
      "metadata": {
        "id": "XIEGO0dCjkTR",
        "colab_type": "text"
      },
      "source": [
        "# New Section"
      ]
    }
  ]
}